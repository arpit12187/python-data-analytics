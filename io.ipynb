{
 "cells": [
  {
   "cell_type": "markdown",
   "metadata": {},
   "source": [
    "taking input from the user\n",
    " - direct input\n",
    " - file based \n",
    " - database"
   ]
  },
  {
   "cell_type": "code",
   "execution_count": null,
   "metadata": {},
   "outputs": [],
   "source": [
    "input()"
   ]
  },
  {
   "cell_type": "code",
   "execution_count": null,
   "metadata": {},
   "outputs": [],
   "source": [
    "input(\"Enter your name\")"
   ]
  },
  {
   "cell_type": "code",
   "execution_count": 7,
   "metadata": {},
   "outputs": [],
   "source": [
    "name = input(\"Enter your name\")\n",
    "name = input(\"city name\")\n",
    "name = input(\"your favorite color\")\n",
    "lucynumber=input(\"enter your number\")"
   ]
  },
  {
   "cell_type": "markdown",
   "metadata": {},
   "source": [
    "Typecasting\n",
    "\n",
    "str=int(variable)"
   ]
  },
  {
   "cell_type": "code",
   "execution_count": 8,
   "metadata": {},
   "outputs": [
    {
     "data": {
      "text/plain": [
       "120"
      ]
     },
     "execution_count": 8,
     "metadata": {},
     "output_type": "execute_result"
    }
   ],
   "source": [
    "int(\"120\")\n"
   ]
  },
  {
   "cell_type": "code",
   "execution_count": 13,
   "metadata": {},
   "outputs": [
    {
     "name": "stdout",
     "output_type": "stream",
     "text": [
      "<class 'int'>\n"
     ]
    }
   ],
   "source": [
    "a= 10\n",
    "b= \"10\"\n",
    "c=\"10.20\"\n",
    "d=10.20\n",
    "print(type(a))"
   ]
  },
  {
   "cell_type": "code",
   "execution_count": 17,
   "metadata": {},
   "outputs": [
    {
     "name": "stdout",
     "output_type": "stream",
     "text": [
      "10.0\n",
      "10\n",
      "True\n"
     ]
    }
   ],
   "source": [
    "print(float(a))\n",
    "print(str(b))\n",
    "print(bool(a))"
   ]
  },
  {
   "cell_type": "code",
   "execution_count": 18,
   "metadata": {},
   "outputs": [
    {
     "name": "stdout",
     "output_type": "stream",
     "text": [
      "340\n"
     ]
    }
   ],
   "source": [
    "a= input(\"enter a number\")\n",
    "b= input(\"Enter a number\")\n",
    "c= int(a)+int(b)\n",
    "print(c)"
   ]
  },
  {
   "cell_type": "code",
   "execution_count": 19,
   "metadata": {},
   "outputs": [
    {
     "name": "stdout",
     "output_type": "stream",
     "text": [
      "65\n"
     ]
    }
   ],
   "source": [
    "a= int(input(\"enter a number\"))\n",
    "b= int(input(\"enter second number\"))\n",
    "c= a+b\n",
    "print(c)"
   ]
  },
  {
   "cell_type": "code",
   "execution_count": 20,
   "metadata": {},
   "outputs": [
    {
     "name": "stdout",
     "output_type": "stream",
     "text": [
      "240.0\n"
     ]
    }
   ],
   "source": [
    "p= int(input(\"enter amount\"))\n",
    "r= int(input(\"enter rate\"))\n",
    "t= int(input(\"enter time\"))\n",
    "si=p*r*t/100\n",
    "print(si)"
   ]
  },
  {
   "cell_type": "markdown",
   "metadata": {},
   "source": [
    "Formatted output"
   ]
  },
  {
   "cell_type": "markdown",
   "metadata": {},
   "source": []
  },
  {
   "cell_type": "code",
   "execution_count": 21,
   "metadata": {},
   "outputs": [
    {
     "name": "stdout",
     "output_type": "stream",
     "text": [
      "answer 12 - 10 = 2\n"
     ]
    }
   ],
   "source": [
    "a= 12\n",
    "b=10\n",
    "c= a-b\n",
    "print(\"answer\",a,\"-\",b,\"=\",c)"
   ]
  },
  {
   "cell_type": "code",
   "execution_count": 25,
   "metadata": {},
   "outputs": [
    {
     "name": "stdout",
     "output_type": "stream",
     "text": [
      "simple interest\n",
      "principle= 1200 rs\n",
      "rate= %\n",
      "time= 3 year\n",
      "-------------------------\n",
      "simple interest is = 108.0\n"
     ]
    },
    {
     "data": {
      "text/plain": [
       "<function print(*args, sep=' ', end='\\n', file=None, flush=False)>"
      ]
     },
     "execution_count": 25,
     "metadata": {},
     "output_type": "execute_result"
    }
   ],
   "source": [
    "p= int(input(\"enter amount\"))\n",
    "r= int(input(\"enter rate\"))\n",
    "t= int(input(\"enter time\"))\n",
    "si=p*r*t/100\n",
    "print(\"simple interest\")\n",
    "print(\"principle=\",p,\"rs\")\n",
    "print(\"rate=\",r,\"%\")\n",
    "print(\"time=\",t,\"year\")\n",
    "print(\"-\"*25)\n",
    "print(\"simple interest is =\", si)\n",
    "print\n"
   ]
  },
  {
   "cell_type": "code",
   "execution_count": 30,
   "metadata": {},
   "outputs": [
    {
     "name": "stdout",
     "output_type": "stream",
     "text": [
      "h-e-l-l-o\n",
      "apple,banana\n"
     ]
    }
   ],
   "source": [
    "print(*\"hello\",sep=\"-\")\n",
    "fruits=[\"apple\",\"banana\"]\n",
    "print(*fruits,sep=\",\")"
   ]
  },
  {
   "cell_type": "markdown",
   "metadata": {},
   "source": [
    "string interpolation for formatted"
   ]
  },
  {
   "cell_type": "code",
   "execution_count": 33,
   "metadata": {},
   "outputs": [
    {
     "name": "stdout",
     "output_type": "stream",
     "text": [
      "answer 12 - 10 = 2\n",
      "answer 12 -10 =2\n"
     ]
    }
   ],
   "source": [
    "a= 12\n",
    "b=10\n",
    "c= a-b\n",
    "print(\"answer\",a,\"-\",b,\"=\",c)\n",
    "print(f\"answer {a} -{b} ={c}\")"
   ]
  },
  {
   "cell_type": "code",
   "execution_count": 34,
   "metadata": {},
   "outputs": [
    {
     "name": "stdout",
     "output_type": "stream",
     "text": [
      "area pf triangle\n",
      "base = 12cm^2\n",
      "height =11 c,^2\n",
      "-------------------------\n",
      "area 66.0cm^2\n"
     ]
    }
   ],
   "source": [
    "#area of rectangle\n",
    "b= int(input(\"enter base \"))\n",
    "h= int(input(\"enter height\"))\n",
    "area = 1/2*b*h\n",
    "print(\"area pf triangle\")\n",
    "print(f\"base = {b}cm^2\")\n",
    "print(f\"height ={h} c,^2\")\n",
    "print(\"-\"*25)\n",
    "print(f\"area {area}cm^2\")"
   ]
  },
  {
   "cell_type": "code",
   "execution_count": null,
   "metadata": {},
   "outputs": [],
   "source": []
  }
 ],
 "metadata": {
  "kernelspec": {
   "display_name": "base",
   "language": "python",
   "name": "python3"
  },
  "language_info": {
   "codemirror_mode": {
    "name": "ipython",
    "version": 3
   },
   "file_extension": ".py",
   "mimetype": "text/x-python",
   "name": "python",
   "nbconvert_exporter": "python",
   "pygments_lexer": "ipython3",
   "version": "3.12.3"
  }
 },
 "nbformat": 4,
 "nbformat_minor": 2
}
